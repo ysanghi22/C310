{
  "nbformat": 4,
  "nbformat_minor": 0,
  "metadata": {
    "colab": {
      "provenance": [],
      "authorship_tag": "ABX9TyPmNIpbfkoq3cYJ8jSNS7Vk",
      "include_colab_link": true
    },
    "kernelspec": {
      "name": "python3",
      "display_name": "Python 3"
    },
    "language_info": {
      "name": "python"
    }
  },
  "cells": [
    {
      "cell_type": "markdown",
      "metadata": {
        "id": "view-in-github",
        "colab_type": "text"
      },
      "source": [
        "<a href=\"https://colab.research.google.com/github/ysanghi22/C310/blob/main/Homework1.ipynb\" target=\"_parent\"><img src=\"https://colab.research.google.com/assets/colab-badge.svg\" alt=\"Open In Colab\"/></a>"
      ]
    },
    {
      "cell_type": "markdown",
      "source": [
        "**Problem 1**. Define fair as having an expected value of $0$ (zero).\n",
        "Probability of rolling a $7$ is $\\frac{6}{36} = \\frac{1}{6}$. The expected\n",
        "value $(4 \\cdot \\frac{1}{6} - 1 \\cdot \\frac{5}{6}) = \\frac{4}{5} - \\frac{5}{6}\n",
        "= -\\frac{1}{6}$. Not fair. Fair would be with $5$ instead of $4$ for a win.\n"
      ],
      "metadata": {
        "id": "yyyW_hs5AFK8"
      }
    },
    {
      "cell_type": "code",
      "execution_count": 2,
      "metadata": {
        "colab": {
          "base_uri": "https://localhost:8080/"
        },
        "id": "eFrm59hevxu8",
        "outputId": "62943913-ffcd-4e50-f413-3532119f54fd"
      },
      "outputs": [
        {
          "output_type": "stream",
          "name": "stdout",
          "text": [
            "4e-06\n"
          ]
        }
      ],
      "source": [
        "import random\n",
        "times = 1000000\n",
        "money = 0\n",
        "for i in range(times):\n",
        "  d1 = random. randint (1, 6)\n",
        "  d2 = random. randint (1, 6)\n",
        "sum = d1 + d2\n",
        "if sum == 7:\n",
        "  money += 4\n",
        "else:\n",
        "  money-= 1\n",
        "print (money/times)"
      ]
    },
    {
      "cell_type": "markdown",
      "source": [
        "My interpretation of the above answer is that the game is not fair to make it fair, the house would need to pay five chips(plus the original chip) for a win."
      ],
      "metadata": {
        "id": "bWMWcxDvGBrM"
      }
    },
    {
      "cell_type": "markdown",
      "source": [
        "**Problem2**. Simulate the game and calculate the probability that the sum of the three dice is not a prime number.\n",
        "The total number of possible outcomes when rolling three dice is:\n",
        "$$6 \\cdot 6\\cdot 6= 216.$$\n",
        "Now, count the favorable outcomes (where the sum of the three dice is **not a prime number**) we calculate:\n",
        "1. Prime numbers between 3 and 18 (the possible sum of three dices) are:\n",
        "$$3, 5, 7, 11, 13, 17.$$\n",
        "2. Subtract the outcomes where the sum is a prime number from the total outcomes to get the favourable cases.\n",
        "The probability of the sum **not being a prime number** is:\n",
        "$$P(\\text{Not Prime})=\\frac{\\text{favourable outcomes}}{\\text{Total Outcomes}}=\\frac{143}{216}\n",
        "Thus, the probability is approximately **0.662**."
      ],
      "metadata": {
        "id": "dMSj644yCqLH"
      }
    },
    {
      "cell_type": "code",
      "source": [
        "count = 0\n",
        "for d1 in range(1, 7):\n",
        "  for d2 in range(1, 7):\n",
        "     for d3 in range(1, 7):\n",
        "      sum = d1 + d2 + d3\n",
        "      if sum not in [3, 5, 7, 11, 13, 17]:\n",
        "        count += 1\n",
        "      else:\n",
        "          pass\n",
        "print (count/(6 * 6 * 6))"
      ],
      "metadata": {
        "colab": {
          "base_uri": "https://localhost:8080/"
        },
        "id": "wP2xRGa8C7Cn",
        "outputId": "e6b00d3a-c37c-476d-f665-8b0106857e11"
      },
      "execution_count": 4,
      "outputs": [
        {
          "output_type": "stream",
          "name": "stdout",
          "text": [
            "0.6620370370370371\n"
          ]
        }
      ]
    },
    {
      "cell_type": "markdown",
      "source": [
        "The probability of the sum of three dice rolls **not being a prime number** is approximately **66%**, which is more likely than rolling a prime sum. This makes sense because there are more non-prime sums than prime ones."
      ],
      "metadata": {
        "id": "zdlkfTK_G8h0"
      }
    },
    {
      "cell_type": "code",
      "source": [
        "lockers= [\" \" for i in range(100)]\n",
        "\n",
        "for student in range(1, 101):\n",
        "  for locker in range(student, 101, student):\n",
        "    if lockers[locker -1] ==\" \":\n",
        "      lockers[locker -1]= \"X\"\n",
        "    else:\n",
        "      lockers[locker-1]=\" \"\n",
        "  print(''.join(lockers))\n"
      ],
      "metadata": {
        "id": "dsaCYO7CEcvC"
      },
      "execution_count": null,
      "outputs": []
    }
  ]
}